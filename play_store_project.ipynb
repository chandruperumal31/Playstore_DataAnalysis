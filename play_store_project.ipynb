{
 "cells": [
  {
   "cell_type": "code",
   "execution_count": null,
   "id": "39afb4d8",
   "metadata": {},
   "outputs": [],
   "source": [
    "import pandas as pd\n",
    "import numpy as np\n",
    "from sklearn.model_selection import train_test_split\n",
    "import seaborn as sns\n",
    "\n"
   ]
  },
  {
   "cell_type": "code",
   "execution_count": null,
   "id": "defc05a6",
   "metadata": {},
   "outputs": [],
   "source": [
    "train=pd.read_excel(\"project_playstore.xlsx\")"
   ]
  },
  {
   "cell_type": "code",
   "execution_count": null,
   "id": "da17d834",
   "metadata": {},
   "outputs": [],
   "source": [
    "train.head()"
   ]
  },
  {
   "cell_type": "code",
   "execution_count": null,
   "id": "e1163ba2",
   "metadata": {},
   "outputs": [],
   "source": [
    "# split the data(train,test)"
   ]
  },
  {
   "cell_type": "code",
   "execution_count": null,
   "id": "af652808",
   "metadata": {
    "scrolled": false
   },
   "outputs": [],
   "source": [
    "train.reset_index(drop=True,inplace=True)\n"
   ]
  },
  {
   "cell_type": "code",
   "execution_count": null,
   "id": "3584b521",
   "metadata": {
    "scrolled": true
   },
   "outputs": [],
   "source": [
    "# treating null values\n",
    "train.isnull().sum()"
   ]
  },
  {
   "cell_type": "code",
   "execution_count": null,
   "id": "70029be5",
   "metadata": {},
   "outputs": [],
   "source": [
    "train.dropna(inplace=True)\n"
   ]
  },
  {
   "cell_type": "code",
   "execution_count": null,
   "id": "b7c9a8d1",
   "metadata": {},
   "outputs": [],
   "source": [
    "train['Released']=pd.to_datetime(train['Released'])"
   ]
  },
  {
   "cell_type": "code",
   "execution_count": null,
   "id": "f0c7e9d0",
   "metadata": {},
   "outputs": [],
   "source": [
    "train['Released']=train['Released'].dt.date"
   ]
  },
  {
   "cell_type": "code",
   "execution_count": null,
   "id": "42d8bee4",
   "metadata": {
    "scrolled": true
   },
   "outputs": [],
   "source": [
    "# data cleaning(train)\n",
    "train.head()"
   ]
  },
  {
   "cell_type": "code",
   "execution_count": null,
   "id": "c2fc4243",
   "metadata": {
    "scrolled": true
   },
   "outputs": [],
   "source": [
    "print(\"Installs:\",train['Installs'].unique())\n"
   ]
  },
  {
   "cell_type": "code",
   "execution_count": null,
   "id": "7d38b38b",
   "metadata": {},
   "outputs": [],
   "source": [
    "# treating column installs(train)\n",
    "train['Installs']=train['Installs'].str.replace(\"+\",\"\",regex=True)\n",
    "train['Installs']=train['Installs'].str.replace(\",\",\"\",regex=True)\n",
    "train['Installs']=train['Installs'].astype('float64')\n"
   ]
  },
  {
   "cell_type": "code",
   "execution_count": null,
   "id": "d623e70d",
   "metadata": {},
   "outputs": [],
   "source": [
    "train['Content Rating'].unique()"
   ]
  },
  {
   "cell_type": "code",
   "execution_count": null,
   "id": "23ffe88f",
   "metadata": {},
   "outputs": [],
   "source": [
    "# treating column content rating\n",
    "train['Content Rating']=train['Content Rating'].str.replace(\"17+\",\"\",regex=True)\n",
    "train['Content Rating']=train['Content Rating'].str.replace(\"10+\",\"\",regex=True)\n",
    "train['Content Rating']=train['Content Rating'].str.replace(\"+\",\"\",regex=True)\n"
   ]
  },
  {
   "cell_type": "code",
   "execution_count": null,
   "id": "15bb4166",
   "metadata": {},
   "outputs": [],
   "source": [
    "z=train.copy()\n",
    "z.isnull().sum()"
   ]
  },
  {
   "cell_type": "code",
   "execution_count": null,
   "id": "6fd2c1a9",
   "metadata": {},
   "outputs": [],
   "source": [
    "train.to_excel(r'C:\\Users\\kkrok\\Documents\\Playstore_project\\cleaned_data.xlsx')"
   ]
  },
  {
   "cell_type": "code",
   "execution_count": null,
   "id": "609adc1a",
   "metadata": {},
   "outputs": [],
   "source": [
    "train['Free']=train['Free'].replace({False:0,True:1})"
   ]
  },
  {
   "cell_type": "code",
   "execution_count": null,
   "id": "21d40258",
   "metadata": {},
   "outputs": [],
   "source": [
    "train['Free']=train['Free'].astype('int64')"
   ]
  },
  {
   "cell_type": "code",
   "execution_count": null,
   "id": "8d848bdf",
   "metadata": {},
   "outputs": [],
   "source": [
    "train['Ad Supported']=train['Ad Supported'].replace({False:0,True:1})"
   ]
  },
  {
   "cell_type": "code",
   "execution_count": null,
   "id": "11e61b31",
   "metadata": {},
   "outputs": [],
   "source": [
    "train['Ad Supported']=train['Ad Supported'].astype('int64')"
   ]
  },
  {
   "cell_type": "code",
   "execution_count": null,
   "id": "c7c732b4",
   "metadata": {},
   "outputs": [],
   "source": [
    "train['In App Purchases']=train['In App Purchases'].replace({False:0,True:1})"
   ]
  },
  {
   "cell_type": "code",
   "execution_count": null,
   "id": "6c7e4af3",
   "metadata": {},
   "outputs": [],
   "source": [
    "train['In App Purchases']=train['In App Purchases'].astype('int64')"
   ]
  },
  {
   "cell_type": "code",
   "execution_count": null,
   "id": "a2d972b7",
   "metadata": {},
   "outputs": [],
   "source": [
    "## encoding"
   ]
  },
  {
   "cell_type": "code",
   "execution_count": null,
   "id": "372a4c4a",
   "metadata": {},
   "outputs": [],
   "source": [
    "catcol=train.select_dtypes(include='O').columns###\n",
    "catcol_exclude=['Released']\n",
    "col_for_encoding=[col for col in catcol if col not in catcol_exclude]\n",
    "col_for_encoding"
   ]
  },
  {
   "cell_type": "code",
   "execution_count": null,
   "id": "1f38d624",
   "metadata": {
    "scrolled": false
   },
   "outputs": [],
   "source": [
    "\n",
    "from sklearn.preprocessing import OrdinalEncoder\n",
    "oe=OrdinalEncoder(dtype='O')\n",
    "oe.fit(train[col_for_encoding])\n",
    "train[col_for_encoding]=oe.transform(train[col_for_encoding])\n",
    "train.head()\n"
   ]
  },
  {
   "cell_type": "code",
   "execution_count": null,
   "id": "379fcf99",
   "metadata": {
    "scrolled": true
   },
   "outputs": [],
   "source": [
    "train.shape"
   ]
  },
  {
   "cell_type": "code",
   "execution_count": null,
   "id": "8ffe31c7",
   "metadata": {},
   "outputs": [],
   "source": [
    "train.to_excel(r'C:\\Users\\kkrok\\Documents\\Playstore_project\\cleaned_data.xlsx', index=True)\n"
   ]
  }
 ],
 "metadata": {
  "kernelspec": {
   "display_name": "Python 3 (ipykernel)",
   "language": "python",
   "name": "python3"
  },
  "language_info": {
   "codemirror_mode": {
    "name": "ipython",
    "version": 3
   },
   "file_extension": ".py",
   "mimetype": "text/x-python",
   "name": "python",
   "nbconvert_exporter": "python",
   "pygments_lexer": "ipython3",
   "version": "3.10.9"
  }
 },
 "nbformat": 4,
 "nbformat_minor": 5
}
